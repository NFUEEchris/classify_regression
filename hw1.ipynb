{
 "cells": [
  {
   "cell_type": "code",
   "execution_count": 2,
   "metadata": {},
   "outputs": [],
   "source": [
    "import pandas as pd\n",
    "import numpy as np\n",
    "import tensorflow as tf\n",
    "from sklearn.model_selection import train_test_split\n",
    "from sklearn import preprocessing\n",
    "from keras.activations import sigmoid\n",
    "from keras.optimizers import SGD,Adam\n",
    "from keras.losses import categorical_crossentropy\n",
    "from keras.utils import to_categorical"
   ]
  },
  {
   "cell_type": "code",
   "execution_count": 32,
   "metadata": {},
   "outputs": [
    {
     "name": "stdout",
     "output_type": "stream",
     "text": [
      "(11339, 8)\n",
      "(2835, 8)\n",
      "(11339, 7)\n",
      "(2835,)\n"
     ]
    }
   ],
   "source": [
    "data=pd.read_csv('C:\\\\code\\\\python_p\\\\deep learning\\\\DL 1\\\\class1_trn.csv')\n",
    "y_data=data.iloc[:,8]-1\n",
    "x_data=data.iloc[:,:8]\n",
    "# x_data = preprocessing.normalize(x_data)\n",
    "# y_data=y_data / np.linalg.norm(y_data)\n",
    "\n",
    "X_train, X_test, y_train, y_test = train_test_split(x_data, y_data, test_size=0.2,random_state=40)\n",
    "y_train=to_categorical(y_train,num_classes=7)\n",
    "print(X_train.shape)\n",
    "print(X_test.shape)\n",
    "print(y_train.shape)\n",
    "print(y_test.shape)"
   ]
  },
  {
   "cell_type": "code",
   "execution_count": 33,
   "metadata": {},
   "outputs": [
    {
     "data": {
      "text/plain": [
       "(11339, 7)"
      ]
     },
     "execution_count": 33,
     "metadata": {},
     "output_type": "execute_result"
    }
   ],
   "source": [
    "data1=pd.read_csv('C:\\\\code\\\\python_p\\\\deep learning\\\\DL 1\\\\class1_tst.csv',header=None)\n",
    "# print(data1)\n",
    "X_test=data1.iloc[:,:8]\n",
    "y_train.shape"
   ]
  },
  {
   "cell_type": "code",
   "execution_count": 34,
   "metadata": {},
   "outputs": [],
   "source": [
    "from keras.layers import Dense,Dropout\n",
    "from keras.models import  Sequential\n",
    "from keras.activations import exponential,tanh\n",
    "\n",
    "model = Sequential()\n",
    "model.add(Dense(64, input_dim=8, activation=tanh))\n",
    "model.add(Dense(32))\n",
    "model.add(Dense(7, activation='softmax'))\n",
    "model.compile(loss='binary_crossentropy', optimizer='adam',metrics=['accuracy'])"
   ]
  },
  {
   "cell_type": "code",
   "execution_count": 36,
   "metadata": {},
   "outputs": [
    {
     "name": "stdout",
     "output_type": "stream",
     "text": [
      "Epoch 1/100\n",
      "355/355 [==============================] - 1s 2ms/step - loss: 0.0169 - accuracy: 0.9791\n",
      "Epoch 2/100\n",
      "355/355 [==============================] - 1s 1ms/step - loss: 0.0161 - accuracy: 0.9782\n",
      "Epoch 3/100\n",
      "355/355 [==============================] - 1s 1ms/step - loss: 0.0179 - accuracy: 0.9783\n",
      "Epoch 4/100\n",
      "355/355 [==============================] - 1s 1ms/step - loss: 0.0174 - accuracy: 0.9771\n",
      "Epoch 5/100\n",
      "355/355 [==============================] - 1s 1ms/step - loss: 0.0167 - accuracy: 0.9781\n",
      "Epoch 6/100\n",
      "355/355 [==============================] - 1s 1ms/step - loss: 0.0174 - accuracy: 0.9782\n",
      "Epoch 7/100\n",
      "355/355 [==============================] - 1s 1ms/step - loss: 0.0157 - accuracy: 0.9787\n",
      "Epoch 8/100\n",
      "355/355 [==============================] - 1s 1ms/step - loss: 0.0171 - accuracy: 0.9781\n",
      "Epoch 9/100\n",
      "355/355 [==============================] - 1s 1ms/step - loss: 0.0175 - accuracy: 0.9778\n",
      "Epoch 10/100\n",
      "355/355 [==============================] - 1s 1ms/step - loss: 0.0163 - accuracy: 0.9792\n",
      "Epoch 11/100\n",
      "355/355 [==============================] - 1s 2ms/step - loss: 0.0168 - accuracy: 0.9778\n",
      "Epoch 12/100\n",
      "355/355 [==============================] - 1s 1ms/step - loss: 0.0176 - accuracy: 0.9776\n",
      "Epoch 13/100\n",
      "355/355 [==============================] - 1s 1ms/step - loss: 0.0172 - accuracy: 0.9788\n",
      "Epoch 14/100\n",
      "355/355 [==============================] - 1s 1ms/step - loss: 0.0162 - accuracy: 0.9780\n",
      "Epoch 15/100\n",
      "355/355 [==============================] - 1s 1ms/step - loss: 0.0166 - accuracy: 0.9783\n",
      "Epoch 16/100\n",
      "355/355 [==============================] - 1s 1ms/step - loss: 0.0171 - accuracy: 0.9786\n",
      "Epoch 17/100\n",
      "355/355 [==============================] - 1s 1ms/step - loss: 0.0164 - accuracy: 0.9782\n",
      "Epoch 18/100\n",
      "355/355 [==============================] - 1s 2ms/step - loss: 0.0167 - accuracy: 0.9787\n",
      "Epoch 19/100\n",
      "355/355 [==============================] - 1s 2ms/step - loss: 0.0181 - accuracy: 0.9778\n",
      "Epoch 20/100\n",
      "355/355 [==============================] - 1s 2ms/step - loss: 0.0172 - accuracy: 0.9774\n",
      "Epoch 21/100\n",
      "355/355 [==============================] - 1s 2ms/step - loss: 0.0168 - accuracy: 0.9774\n",
      "Epoch 22/100\n",
      "355/355 [==============================] - 1s 1ms/step - loss: 0.0166 - accuracy: 0.9773\n",
      "Epoch 23/100\n",
      "355/355 [==============================] - 1s 1ms/step - loss: 0.0163 - accuracy: 0.9797\n",
      "Epoch 24/100\n",
      "355/355 [==============================] - 1s 1ms/step - loss: 0.0156 - accuracy: 0.9798\n",
      "Epoch 25/100\n",
      "355/355 [==============================] - 1s 2ms/step - loss: 0.0182 - accuracy: 0.9751\n",
      "Epoch 26/100\n",
      "355/355 [==============================] - 1s 1ms/step - loss: 0.0180 - accuracy: 0.9772\n",
      "Epoch 27/100\n",
      "355/355 [==============================] - 1s 1ms/step - loss: 0.0164 - accuracy: 0.9785\n",
      "Epoch 28/100\n",
      "355/355 [==============================] - 1s 1ms/step - loss: 0.0166 - accuracy: 0.9778\n",
      "Epoch 29/100\n",
      "355/355 [==============================] - 1s 2ms/step - loss: 0.0160 - accuracy: 0.9804\n",
      "Epoch 30/100\n",
      "355/355 [==============================] - 1s 1ms/step - loss: 0.0185 - accuracy: 0.9783\n",
      "Epoch 31/100\n",
      "355/355 [==============================] - 1s 2ms/step - loss: 0.0154 - accuracy: 0.9804\n",
      "Epoch 32/100\n",
      "355/355 [==============================] - 1s 1ms/step - loss: 0.0163 - accuracy: 0.9781\n",
      "Epoch 33/100\n",
      "355/355 [==============================] - 1s 1ms/step - loss: 0.0160 - accuracy: 0.9794\n",
      "Epoch 34/100\n",
      "355/355 [==============================] - 1s 1ms/step - loss: 0.0192 - accuracy: 0.9763\n",
      "Epoch 35/100\n",
      "355/355 [==============================] - 1s 1ms/step - loss: 0.0158 - accuracy: 0.9787\n",
      "Epoch 36/100\n",
      "355/355 [==============================] - 1s 2ms/step - loss: 0.0158 - accuracy: 0.9791\n",
      "Epoch 37/100\n",
      "355/355 [==============================] - 1s 1ms/step - loss: 0.0165 - accuracy: 0.9793\n",
      "Epoch 38/100\n",
      "355/355 [==============================] - 1s 1ms/step - loss: 0.0165 - accuracy: 0.9792\n",
      "Epoch 39/100\n",
      "355/355 [==============================] - 1s 1ms/step - loss: 0.0162 - accuracy: 0.9791\n",
      "Epoch 40/100\n",
      "355/355 [==============================] - 1s 1ms/step - loss: 0.0160 - accuracy: 0.9788\n",
      "Epoch 41/100\n",
      "355/355 [==============================] - 1s 1ms/step - loss: 0.0159 - accuracy: 0.9797\n",
      "Epoch 42/100\n",
      "355/355 [==============================] - 1s 1ms/step - loss: 0.0164 - accuracy: 0.9796\n",
      "Epoch 43/100\n",
      "355/355 [==============================] - 1s 1ms/step - loss: 0.0151 - accuracy: 0.9810\n",
      "Epoch 44/100\n",
      "355/355 [==============================] - 1s 1ms/step - loss: 0.0176 - accuracy: 0.9784\n",
      "Epoch 45/100\n",
      "355/355 [==============================] - 1s 1ms/step - loss: 0.0159 - accuracy: 0.9780\n",
      "Epoch 46/100\n",
      "355/355 [==============================] - 1s 1ms/step - loss: 0.0170 - accuracy: 0.9788\n",
      "Epoch 47/100\n",
      "355/355 [==============================] - 1s 1ms/step - loss: 0.0183 - accuracy: 0.9771\n",
      "Epoch 48/100\n",
      "355/355 [==============================] - 1s 2ms/step - loss: 0.0150 - accuracy: 0.9800\n",
      "Epoch 49/100\n",
      "355/355 [==============================] - 1s 2ms/step - loss: 0.0153 - accuracy: 0.9801\n",
      "Epoch 50/100\n",
      "355/355 [==============================] - 1s 2ms/step - loss: 0.0154 - accuracy: 0.9797\n",
      "Epoch 51/100\n",
      "355/355 [==============================] - 1s 2ms/step - loss: 0.0164 - accuracy: 0.9787\n",
      "Epoch 52/100\n",
      "355/355 [==============================] - 1s 1ms/step - loss: 0.0152 - accuracy: 0.9783\n",
      "Epoch 53/100\n",
      "355/355 [==============================] - 1s 1ms/step - loss: 0.0160 - accuracy: 0.9790\n",
      "Epoch 54/100\n",
      "355/355 [==============================] - 1s 1ms/step - loss: 0.0177 - accuracy: 0.9780\n",
      "Epoch 55/100\n",
      "355/355 [==============================] - 1s 1ms/step - loss: 0.0160 - accuracy: 0.9794\n",
      "Epoch 56/100\n",
      "355/355 [==============================] - 1s 1ms/step - loss: 0.0162 - accuracy: 0.9795\n",
      "Epoch 57/100\n",
      "355/355 [==============================] - 1s 1ms/step - loss: 0.0174 - accuracy: 0.9782\n",
      "Epoch 58/100\n",
      "355/355 [==============================] - 1s 1ms/step - loss: 0.0166 - accuracy: 0.9788\n",
      "Epoch 59/100\n",
      "355/355 [==============================] - 1s 2ms/step - loss: 0.0169 - accuracy: 0.9790\n",
      "Epoch 60/100\n",
      "355/355 [==============================] - 1s 1ms/step - loss: 0.0157 - accuracy: 0.9782\n",
      "Epoch 61/100\n",
      "355/355 [==============================] - 1s 1ms/step - loss: 0.0150 - accuracy: 0.9808\n",
      "Epoch 62/100\n",
      "355/355 [==============================] - 1s 1ms/step - loss: 0.0152 - accuracy: 0.9812\n",
      "Epoch 63/100\n",
      "355/355 [==============================] - 1s 1ms/step - loss: 0.0156 - accuracy: 0.9801\n",
      "Epoch 64/100\n",
      "355/355 [==============================] - 1s 1ms/step - loss: 0.0155 - accuracy: 0.9799\n",
      "Epoch 65/100\n",
      "355/355 [==============================] - 1s 1ms/step - loss: 0.0148 - accuracy: 0.9800\n",
      "Epoch 66/100\n",
      "355/355 [==============================] - 1s 1ms/step - loss: 0.0157 - accuracy: 0.9787\n",
      "Epoch 67/100\n",
      "355/355 [==============================] - 1s 1ms/step - loss: 0.0153 - accuracy: 0.9794\n",
      "Epoch 68/100\n",
      "355/355 [==============================] - 1s 1ms/step - loss: 0.0168 - accuracy: 0.9780\n",
      "Epoch 69/100\n",
      "355/355 [==============================] - 1s 1ms/step - loss: 0.0160 - accuracy: 0.9787\n",
      "Epoch 70/100\n",
      "355/355 [==============================] - 1s 2ms/step - loss: 0.0157 - accuracy: 0.9795\n",
      "Epoch 71/100\n",
      "355/355 [==============================] - 1s 1ms/step - loss: 0.0168 - accuracy: 0.9775\n",
      "Epoch 72/100\n",
      "355/355 [==============================] - 1s 1ms/step - loss: 0.0157 - accuracy: 0.9795\n",
      "Epoch 73/100\n",
      "355/355 [==============================] - 1s 1ms/step - loss: 0.0160 - accuracy: 0.9787\n",
      "Epoch 74/100\n",
      "355/355 [==============================] - 1s 1ms/step - loss: 0.0143 - accuracy: 0.9817\n",
      "Epoch 75/100\n",
      "355/355 [==============================] - 1s 1ms/step - loss: 0.0163 - accuracy: 0.9794\n",
      "Epoch 76/100\n",
      "355/355 [==============================] - 1s 1ms/step - loss: 0.0147 - accuracy: 0.9800\n",
      "Epoch 77/100\n",
      "355/355 [==============================] - 1s 1ms/step - loss: 0.0163 - accuracy: 0.9791\n",
      "Epoch 78/100\n",
      "355/355 [==============================] - 1s 2ms/step - loss: 0.0151 - accuracy: 0.9794\n",
      "Epoch 79/100\n",
      "355/355 [==============================] - 1s 2ms/step - loss: 0.0146 - accuracy: 0.9807\n",
      "Epoch 80/100\n",
      "355/355 [==============================] - 1s 2ms/step - loss: 0.0154 - accuracy: 0.9795\n",
      "Epoch 81/100\n",
      "355/355 [==============================] - 1s 2ms/step - loss: 0.0170 - accuracy: 0.9781\n",
      "Epoch 82/100\n",
      "355/355 [==============================] - 1s 2ms/step - loss: 0.0149 - accuracy: 0.9808\n",
      "Epoch 83/100\n",
      "355/355 [==============================] - 1s 1ms/step - loss: 0.0150 - accuracy: 0.9794\n",
      "Epoch 84/100\n",
      "355/355 [==============================] - 1s 1ms/step - loss: 0.0168 - accuracy: 0.9780\n",
      "Epoch 85/100\n",
      "355/355 [==============================] - 1s 1ms/step - loss: 0.0158 - accuracy: 0.9795\n",
      "Epoch 86/100\n",
      "355/355 [==============================] - 1s 1ms/step - loss: 0.0177 - accuracy: 0.9788\n",
      "Epoch 87/100\n",
      "355/355 [==============================] - 1s 1ms/step - loss: 0.0153 - accuracy: 0.9791\n",
      "Epoch 88/100\n",
      "355/355 [==============================] - 1s 1ms/step - loss: 0.0144 - accuracy: 0.9808\n",
      "Epoch 89/100\n",
      "355/355 [==============================] - 1s 1ms/step - loss: 0.0144 - accuracy: 0.9805\n",
      "Epoch 90/100\n",
      "355/355 [==============================] - 1s 1ms/step - loss: 0.0148 - accuracy: 0.9795\n",
      "Epoch 91/100\n",
      "355/355 [==============================] - 1s 2ms/step - loss: 0.0151 - accuracy: 0.9794\n",
      "Epoch 92/100\n",
      "355/355 [==============================] - 1s 1ms/step - loss: 0.0149 - accuracy: 0.9813\n",
      "Epoch 93/100\n",
      "355/355 [==============================] - 1s 1ms/step - loss: 0.0157 - accuracy: 0.9795\n",
      "Epoch 94/100\n",
      "355/355 [==============================] - 1s 1ms/step - loss: 0.0161 - accuracy: 0.9780\n",
      "Epoch 95/100\n",
      "355/355 [==============================] - 1s 1ms/step - loss: 0.0165 - accuracy: 0.9788\n",
      "Epoch 96/100\n",
      "355/355 [==============================] - 1s 2ms/step - loss: 0.0161 - accuracy: 0.9796\n",
      "Epoch 97/100\n",
      "355/355 [==============================] - 1s 1ms/step - loss: 0.0142 - accuracy: 0.9814\n",
      "Epoch 98/100\n",
      "355/355 [==============================] - 1s 1ms/step - loss: 0.0150 - accuracy: 0.9796\n",
      "Epoch 99/100\n",
      "355/355 [==============================] - 1s 1ms/step - loss: 0.0149 - accuracy: 0.9813\n",
      "Epoch 100/100\n",
      "355/355 [==============================] - 1s 1ms/step - loss: 0.0143 - accuracy: 0.9803\n"
     ]
    },
    {
     "data": {
      "text/plain": [
       "<keras.callbacks.History at 0x20fa6b347f0>"
      ]
     },
     "execution_count": 36,
     "metadata": {},
     "output_type": "execute_result"
    }
   ],
   "source": [
    "model.fit(X_train, y_train,epochs=100,batch_size=32)"
   ]
  },
  {
   "cell_type": "code",
   "execution_count": 41,
   "metadata": {},
   "outputs": [
    {
     "name": "stdout",
     "output_type": "stream",
     "text": [
      "50/50 [==============================] - 0s 1ms/step\n",
      "[[8.7094978e-21 1.4245609e-13 9.4573139e-14 ... 2.4453509e-21\n",
      "  4.4099324e-31 6.3557763e-32]\n",
      " [1.1733505e-09 3.5756225e-22 9.9999958e-01 ... 3.7675946e-07\n",
      "  5.2832017e-13 2.2184889e-20]\n",
      " [6.5209211e-14 1.6114462e-20 3.4388586e-19 ... 1.0195730e-12\n",
      "  5.4125156e-13 9.9999994e-01]\n",
      " ...\n",
      " [4.8461470e-08 4.5370032e-14 1.0616776e-03 ... 9.9893826e-01\n",
      "  2.0944099e-10 3.7375353e-11]\n",
      " [3.4624068e-12 1.4683145e-19 1.1128677e-17 ... 7.5581503e-12\n",
      "  3.8143525e-13 1.0000000e+00]\n",
      " [1.0000000e+00 0.0000000e+00 5.3594384e-16 ... 1.4544664e-27\n",
      "  6.0871429e-23 1.8113695e-20]]\n",
      "[3 2 6 ... 4 6 0]\n"
     ]
    }
   ],
   "source": [
    "result=model.predict(X_test)\n",
    "pred=np.argmax(result,axis=1)\n",
    "print(result)\n",
    "print(pred)"
   ]
  },
  {
   "cell_type": "code",
   "execution_count": 44,
   "metadata": {},
   "outputs": [
    {
     "ename": "ValueError",
     "evalue": "Found input variables with inconsistent numbers of samples: [2835, 1575]",
     "output_type": "error",
     "traceback": [
      "\u001b[1;31m---------------------------------------------------------------------------\u001b[0m",
      "\u001b[1;31mValueError\u001b[0m                                Traceback (most recent call last)",
      "Cell \u001b[1;32mIn[44], line 2\u001b[0m\n\u001b[0;32m      1\u001b[0m \u001b[39mfrom\u001b[39;00m \u001b[39msklearn\u001b[39;00m\u001b[39m.\u001b[39;00m\u001b[39mmetrics\u001b[39;00m \u001b[39mimport\u001b[39;00m confusion_matrix\n\u001b[1;32m----> 2\u001b[0m confusion_matrix(y_test,pred)\n",
      "File \u001b[1;32mc:\\Users\\Chris Lin\\anaconda3\\envs\\cnn-env2\\lib\\site-packages\\sklearn\\metrics\\_classification.py:317\u001b[0m, in \u001b[0;36mconfusion_matrix\u001b[1;34m(y_true, y_pred, labels, sample_weight, normalize)\u001b[0m\n\u001b[0;32m    232\u001b[0m \u001b[39mdef\u001b[39;00m \u001b[39mconfusion_matrix\u001b[39m(\n\u001b[0;32m    233\u001b[0m     y_true, y_pred, \u001b[39m*\u001b[39m, labels\u001b[39m=\u001b[39m\u001b[39mNone\u001b[39;00m, sample_weight\u001b[39m=\u001b[39m\u001b[39mNone\u001b[39;00m, normalize\u001b[39m=\u001b[39m\u001b[39mNone\u001b[39;00m\n\u001b[0;32m    234\u001b[0m ):\n\u001b[0;32m    235\u001b[0m     \u001b[39m\"\"\"Compute confusion matrix to evaluate the accuracy of a classification.\u001b[39;00m\n\u001b[0;32m    236\u001b[0m \n\u001b[0;32m    237\u001b[0m \u001b[39m    By definition a confusion matrix :math:`C` is such that :math:`C_{i, j}`\u001b[39;00m\n\u001b[1;32m   (...)\u001b[0m\n\u001b[0;32m    315\u001b[0m \u001b[39m    (0, 2, 1, 1)\u001b[39;00m\n\u001b[0;32m    316\u001b[0m \u001b[39m    \"\"\"\u001b[39;00m\n\u001b[1;32m--> 317\u001b[0m     y_type, y_true, y_pred \u001b[39m=\u001b[39m _check_targets(y_true, y_pred)\n\u001b[0;32m    318\u001b[0m     \u001b[39mif\u001b[39;00m y_type \u001b[39mnot\u001b[39;00m \u001b[39min\u001b[39;00m (\u001b[39m\"\u001b[39m\u001b[39mbinary\u001b[39m\u001b[39m\"\u001b[39m, \u001b[39m\"\u001b[39m\u001b[39mmulticlass\u001b[39m\u001b[39m\"\u001b[39m):\n\u001b[0;32m    319\u001b[0m         \u001b[39mraise\u001b[39;00m \u001b[39mValueError\u001b[39;00m(\u001b[39m\"\u001b[39m\u001b[39m%s\u001b[39;00m\u001b[39m is not supported\u001b[39m\u001b[39m\"\u001b[39m \u001b[39m%\u001b[39m y_type)\n",
      "File \u001b[1;32mc:\\Users\\Chris Lin\\anaconda3\\envs\\cnn-env2\\lib\\site-packages\\sklearn\\metrics\\_classification.py:86\u001b[0m, in \u001b[0;36m_check_targets\u001b[1;34m(y_true, y_pred)\u001b[0m\n\u001b[0;32m     59\u001b[0m \u001b[39mdef\u001b[39;00m \u001b[39m_check_targets\u001b[39m(y_true, y_pred):\n\u001b[0;32m     60\u001b[0m     \u001b[39m\"\"\"Check that y_true and y_pred belong to the same classification task.\u001b[39;00m\n\u001b[0;32m     61\u001b[0m \n\u001b[0;32m     62\u001b[0m \u001b[39m    This converts multiclass or binary types to a common shape, and raises a\u001b[39;00m\n\u001b[1;32m   (...)\u001b[0m\n\u001b[0;32m     84\u001b[0m \u001b[39m    y_pred : array or indicator matrix\u001b[39;00m\n\u001b[0;32m     85\u001b[0m \u001b[39m    \"\"\"\u001b[39;00m\n\u001b[1;32m---> 86\u001b[0m     check_consistent_length(y_true, y_pred)\n\u001b[0;32m     87\u001b[0m     type_true \u001b[39m=\u001b[39m type_of_target(y_true, input_name\u001b[39m=\u001b[39m\u001b[39m\"\u001b[39m\u001b[39my_true\u001b[39m\u001b[39m\"\u001b[39m)\n\u001b[0;32m     88\u001b[0m     type_pred \u001b[39m=\u001b[39m type_of_target(y_pred, input_name\u001b[39m=\u001b[39m\u001b[39m\"\u001b[39m\u001b[39my_pred\u001b[39m\u001b[39m\"\u001b[39m)\n",
      "File \u001b[1;32mc:\\Users\\Chris Lin\\anaconda3\\envs\\cnn-env2\\lib\\site-packages\\sklearn\\utils\\validation.py:397\u001b[0m, in \u001b[0;36mcheck_consistent_length\u001b[1;34m(*arrays)\u001b[0m\n\u001b[0;32m    395\u001b[0m uniques \u001b[39m=\u001b[39m np\u001b[39m.\u001b[39munique(lengths)\n\u001b[0;32m    396\u001b[0m \u001b[39mif\u001b[39;00m \u001b[39mlen\u001b[39m(uniques) \u001b[39m>\u001b[39m \u001b[39m1\u001b[39m:\n\u001b[1;32m--> 397\u001b[0m     \u001b[39mraise\u001b[39;00m \u001b[39mValueError\u001b[39;00m(\n\u001b[0;32m    398\u001b[0m         \u001b[39m\"\u001b[39m\u001b[39mFound input variables with inconsistent numbers of samples: \u001b[39m\u001b[39m%r\u001b[39;00m\u001b[39m\"\u001b[39m\n\u001b[0;32m    399\u001b[0m         \u001b[39m%\u001b[39m [\u001b[39mint\u001b[39m(l) \u001b[39mfor\u001b[39;00m l \u001b[39min\u001b[39;00m lengths]\n\u001b[0;32m    400\u001b[0m     )\n",
      "\u001b[1;31mValueError\u001b[0m: Found input variables with inconsistent numbers of samples: [2835, 1575]"
     ]
    }
   ],
   "source": [
    "from sklearn.metrics import confusion_matrix\n",
    "y_test.shape\n",
    "# confusion_matrix(y_test,pred)"
   ]
  },
  {
   "cell_type": "code",
   "execution_count": 43,
   "metadata": {},
   "outputs": [
    {
     "ename": "ValueError",
     "evalue": "Found input variables with inconsistent numbers of samples: [2835, 1575]",
     "output_type": "error",
     "traceback": [
      "\u001b[1;31m---------------------------------------------------------------------------\u001b[0m",
      "\u001b[1;31mValueError\u001b[0m                                Traceback (most recent call last)",
      "Cell \u001b[1;32mIn[43], line 3\u001b[0m\n\u001b[0;32m      1\u001b[0m pred1\u001b[39m=\u001b[39mpred\u001b[39m.\u001b[39mreshape(\u001b[39mlen\u001b[39m(pred),\u001b[39m1\u001b[39m)\n\u001b[0;32m      2\u001b[0m \u001b[39mfrom\u001b[39;00m \u001b[39msklearn\u001b[39;00m\u001b[39m.\u001b[39;00m\u001b[39mmetrics\u001b[39;00m \u001b[39mimport\u001b[39;00m confusion_matrix\n\u001b[1;32m----> 3\u001b[0m confusion_matrix(y_test,pred1)\n\u001b[0;32m      4\u001b[0m a\u001b[39m=\u001b[39mpd\u001b[39m.\u001b[39mconcat([pd\u001b[39m.\u001b[39mDataFrame(X_test),pd\u001b[39m.\u001b[39mDataFrame(pred1)],axis\u001b[39m=\u001b[39m\u001b[39m1\u001b[39m)\n\u001b[0;32m      6\u001b[0m a\n",
      "File \u001b[1;32mc:\\Users\\Chris Lin\\anaconda3\\envs\\cnn-env2\\lib\\site-packages\\sklearn\\metrics\\_classification.py:317\u001b[0m, in \u001b[0;36mconfusion_matrix\u001b[1;34m(y_true, y_pred, labels, sample_weight, normalize)\u001b[0m\n\u001b[0;32m    232\u001b[0m \u001b[39mdef\u001b[39;00m \u001b[39mconfusion_matrix\u001b[39m(\n\u001b[0;32m    233\u001b[0m     y_true, y_pred, \u001b[39m*\u001b[39m, labels\u001b[39m=\u001b[39m\u001b[39mNone\u001b[39;00m, sample_weight\u001b[39m=\u001b[39m\u001b[39mNone\u001b[39;00m, normalize\u001b[39m=\u001b[39m\u001b[39mNone\u001b[39;00m\n\u001b[0;32m    234\u001b[0m ):\n\u001b[0;32m    235\u001b[0m     \u001b[39m\"\"\"Compute confusion matrix to evaluate the accuracy of a classification.\u001b[39;00m\n\u001b[0;32m    236\u001b[0m \n\u001b[0;32m    237\u001b[0m \u001b[39m    By definition a confusion matrix :math:`C` is such that :math:`C_{i, j}`\u001b[39;00m\n\u001b[1;32m   (...)\u001b[0m\n\u001b[0;32m    315\u001b[0m \u001b[39m    (0, 2, 1, 1)\u001b[39;00m\n\u001b[0;32m    316\u001b[0m \u001b[39m    \"\"\"\u001b[39;00m\n\u001b[1;32m--> 317\u001b[0m     y_type, y_true, y_pred \u001b[39m=\u001b[39m _check_targets(y_true, y_pred)\n\u001b[0;32m    318\u001b[0m     \u001b[39mif\u001b[39;00m y_type \u001b[39mnot\u001b[39;00m \u001b[39min\u001b[39;00m (\u001b[39m\"\u001b[39m\u001b[39mbinary\u001b[39m\u001b[39m\"\u001b[39m, \u001b[39m\"\u001b[39m\u001b[39mmulticlass\u001b[39m\u001b[39m\"\u001b[39m):\n\u001b[0;32m    319\u001b[0m         \u001b[39mraise\u001b[39;00m \u001b[39mValueError\u001b[39;00m(\u001b[39m\"\u001b[39m\u001b[39m%s\u001b[39;00m\u001b[39m is not supported\u001b[39m\u001b[39m\"\u001b[39m \u001b[39m%\u001b[39m y_type)\n",
      "File \u001b[1;32mc:\\Users\\Chris Lin\\anaconda3\\envs\\cnn-env2\\lib\\site-packages\\sklearn\\metrics\\_classification.py:86\u001b[0m, in \u001b[0;36m_check_targets\u001b[1;34m(y_true, y_pred)\u001b[0m\n\u001b[0;32m     59\u001b[0m \u001b[39mdef\u001b[39;00m \u001b[39m_check_targets\u001b[39m(y_true, y_pred):\n\u001b[0;32m     60\u001b[0m     \u001b[39m\"\"\"Check that y_true and y_pred belong to the same classification task.\u001b[39;00m\n\u001b[0;32m     61\u001b[0m \n\u001b[0;32m     62\u001b[0m \u001b[39m    This converts multiclass or binary types to a common shape, and raises a\u001b[39;00m\n\u001b[1;32m   (...)\u001b[0m\n\u001b[0;32m     84\u001b[0m \u001b[39m    y_pred : array or indicator matrix\u001b[39;00m\n\u001b[0;32m     85\u001b[0m \u001b[39m    \"\"\"\u001b[39;00m\n\u001b[1;32m---> 86\u001b[0m     check_consistent_length(y_true, y_pred)\n\u001b[0;32m     87\u001b[0m     type_true \u001b[39m=\u001b[39m type_of_target(y_true, input_name\u001b[39m=\u001b[39m\u001b[39m\"\u001b[39m\u001b[39my_true\u001b[39m\u001b[39m\"\u001b[39m)\n\u001b[0;32m     88\u001b[0m     type_pred \u001b[39m=\u001b[39m type_of_target(y_pred, input_name\u001b[39m=\u001b[39m\u001b[39m\"\u001b[39m\u001b[39my_pred\u001b[39m\u001b[39m\"\u001b[39m)\n",
      "File \u001b[1;32mc:\\Users\\Chris Lin\\anaconda3\\envs\\cnn-env2\\lib\\site-packages\\sklearn\\utils\\validation.py:397\u001b[0m, in \u001b[0;36mcheck_consistent_length\u001b[1;34m(*arrays)\u001b[0m\n\u001b[0;32m    395\u001b[0m uniques \u001b[39m=\u001b[39m np\u001b[39m.\u001b[39munique(lengths)\n\u001b[0;32m    396\u001b[0m \u001b[39mif\u001b[39;00m \u001b[39mlen\u001b[39m(uniques) \u001b[39m>\u001b[39m \u001b[39m1\u001b[39m:\n\u001b[1;32m--> 397\u001b[0m     \u001b[39mraise\u001b[39;00m \u001b[39mValueError\u001b[39;00m(\n\u001b[0;32m    398\u001b[0m         \u001b[39m\"\u001b[39m\u001b[39mFound input variables with inconsistent numbers of samples: \u001b[39m\u001b[39m%r\u001b[39;00m\u001b[39m\"\u001b[39m\n\u001b[0;32m    399\u001b[0m         \u001b[39m%\u001b[39m [\u001b[39mint\u001b[39m(l) \u001b[39mfor\u001b[39;00m l \u001b[39min\u001b[39;00m lengths]\n\u001b[0;32m    400\u001b[0m     )\n",
      "\u001b[1;31mValueError\u001b[0m: Found input variables with inconsistent numbers of samples: [2835, 1575]"
     ]
    }
   ],
   "source": [
    "\n",
    "pred1=pred.reshape(len(pred),1)\n",
    "\n",
    "a=pd.concat([pd.DataFrame(X_test),pd.DataFrame(pred1)],axis=1)\n",
    "\n",
    "a\n"
   ]
  },
  {
   "cell_type": "code",
   "execution_count": 39,
   "metadata": {},
   "outputs": [],
   "source": [
    "a.to_csv(\"class1_answer.csv\",index=None,header=None)"
   ]
  },
  {
   "cell_type": "code",
   "execution_count": 40,
   "metadata": {},
   "outputs": [],
   "source": [
    "model.save('report1.h5')"
   ]
  }
 ],
 "metadata": {
  "kernelspec": {
   "display_name": "cnn-env2",
   "language": "python",
   "name": "python3"
  },
  "language_info": {
   "codemirror_mode": {
    "name": "ipython",
    "version": 3
   },
   "file_extension": ".py",
   "mimetype": "text/x-python",
   "name": "python",
   "nbconvert_exporter": "python",
   "pygments_lexer": "ipython3",
   "version": "3.9.16"
  },
  "orig_nbformat": 4
 },
 "nbformat": 4,
 "nbformat_minor": 2
}
